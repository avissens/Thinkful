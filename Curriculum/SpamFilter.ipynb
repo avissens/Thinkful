{
 "cells": [
  {
   "cell_type": "markdown",
   "metadata": {
    "collapsed": true
   },
   "source": [
    "# In the previous tutorial we learnt how to use your ipython notebook for data (text to be precise) analysis. Here we would learn how to do spam classification based on Naive Bayes."
   ]
  },
  {
   "cell_type": "code",
   "execution_count": 45,
   "metadata": {
    "collapsed": false
   },
   "outputs": [],
   "source": [
    "%matplotlib inline\n",
    "from sklearn.metrics import confusion_matrix\n",
    "import matplotlib.pyplot as plt\n",
    "from sklearn.metrics import classification_report\n",
    "import csv\n",
    "from textblob import TextBlob\n",
    "import pandas as pd\n",
    "import sklearn\n",
    "import numpy as np\n",
    "from sklearn.feature_extraction.text import CountVectorizer, TfidfTransformer\n",
    "from sklearn.naive_bayes import MultinomialNB\n",
    "import os\n",
    "from os.path import join\n",
    "import datetime as dt\n",
    "from scipy.stats.stats import pearsonr\n",
    "from sklearn.metrics import roc_curve, roc_auc_score, auc\n",
    "from sklearn.cross_validation import StratifiedKFold\n",
    "import itertools"
   ]
  },
  {
   "cell_type": "markdown",
   "metadata": {},
   "source": [
    "Import the downloaded data first"
   ]
  },
  {
   "cell_type": "code",
   "execution_count": 4,
   "metadata": {
    "collapsed": false
   },
   "outputs": [],
   "source": [
    "path = os.getcwd()\n",
    "df_message = pd.read_csv(join(path,'smsspamcollection/SMSSpamCollection'),sep='\\t', quoting=csv.QUOTE_NONE,\n",
    "                           names=[\"label\", \"message\"])"
   ]
  },
  {
   "cell_type": "markdown",
   "metadata": {},
   "source": [
    "Previously we visualized messages and explored some statistics. Now we would learn how to create features from them. The essential steps include Doing that requires essentially three steps, in the bag-of-words model: <br />\n",
    "1) Count how many times does a word occur in each message. We call it term frequency, <br />\n",
    "2) Weight the counts, so that most frequent tokens get lower weight. We call it inverse document frequency, <br />\n",
    "3) Normalize the vectors to unit length."
   ]
  },
  {
   "cell_type": "code",
   "execution_count": 5,
   "metadata": {
    "collapsed": true
   },
   "outputs": [],
   "source": [
    "def split_into_lemmas(message):\n",
    "    message = unicode(message, 'utf8').lower()\n",
    "    words = TextBlob(message).words\n",
    "    return [word.lemma for word in words]"
   ]
  },
  {
   "cell_type": "code",
   "execution_count": 6,
   "metadata": {
    "collapsed": false
   },
   "outputs": [],
   "source": [
    "BOW_transform = CountVectorizer(analyzer=split_into_lemmas).fit(df_message['message'])"
   ]
  },
  {
   "cell_type": "code",
   "execution_count": 7,
   "metadata": {
    "collapsed": false
   },
   "outputs": [
    {
     "name": "stdout",
     "output_type": "stream",
     "text": [
      "  (0, 21)\t2\n",
      "  (0, 103)\t1\n",
      "  (0, 452)\t1\n",
      "  (0, 472)\t1\n",
      "  (0, 484)\t1\n",
      "  (0, 893)\t1\n",
      "  (0, 948)\t1\n",
      "  (0, 1272)\t1\n",
      "  (0, 1899)\t1\n",
      "  (0, 2266)\t1\n",
      "  (0, 2479)\t1\n",
      "  (0, 3046)\t2\n",
      "  (0, 3177)\t2\n",
      "  (0, 3287)\t1\n",
      "  (0, 3437)\t1\n",
      "  (0, 4183)\t1\n",
      "  (0, 5029)\t1\n",
      "  (0, 6297)\t1\n",
      "  (0, 6350)\t1\n",
      "  (0, 6408)\t1\n",
      "  (0, 7310)\t1\n",
      "  (0, 7533)\t1\n",
      "  (0, 7647)\t1\n",
      "  (0, 7801)\t1\n",
      "  (0, 7812)\t3\n",
      "  (0, 7996)\t1\n",
      "  (0, 8485)\t1\n",
      "  (0, 8525)\t1\n"
     ]
    }
   ],
   "source": [
    "print BOW_transform.transform([df_message['message'][2]])"
   ]
  },
  {
   "cell_type": "markdown",
   "metadata": {},
   "source": [
    "Each message is called a vector and its length is the total number of unique words in the entire dataset (corpus)"
   ]
  },
  {
   "cell_type": "code",
   "execution_count": 49,
   "metadata": {
    "collapsed": false
   },
   "outputs": [
    {
     "name": "stdout",
     "output_type": "stream",
     "text": [
      "length of the vector is: 8874\n"
     ]
    }
   ],
   "source": [
    "print 'length of the vector is:', BOW_transform.transform([df_message['message'][2]]).shape[1]"
   ]
  },
  {
   "cell_type": "markdown",
   "metadata": {},
   "source": [
    "Lets make a quick verification to check if this representation is correct or not. We see for the word corresponding to 7812 we have an occurance frequency of 3. We can verify that by eyeing the message itself"
   ]
  },
  {
   "cell_type": "code",
   "execution_count": 51,
   "metadata": {
    "collapsed": false
   },
   "outputs": [
    {
     "name": "stdout",
     "output_type": "stream",
     "text": [
      "to\n"
     ]
    }
   ],
   "source": [
    "print BOW_transform.get_feature_names()[7812]"
   ]
  },
  {
   "cell_type": "code",
   "execution_count": 52,
   "metadata": {
    "collapsed": false
   },
   "outputs": [
    {
     "data": {
      "text/plain": [
       "\"Free entry in 2 a wkly comp to win FA Cup final tkts 21st May 2005. Text FA to 87121 to receive entry question(std txt rate)T&C's apply 08452810075over18's\""
      ]
     },
     "execution_count": 52,
     "metadata": {},
     "output_type": "execute_result"
    }
   ],
   "source": [
    "df_message['message'][2]"
   ]
  },
  {
   "cell_type": "markdown",
   "metadata": {},
   "source": [
    "So, 'to' indeed occured thrice in the text !!"
   ]
  },
  {
   "cell_type": "markdown",
   "metadata": {},
   "source": [
    "Now lets convert the entire corpus using this approach"
   ]
  },
  {
   "cell_type": "code",
   "execution_count": 8,
   "metadata": {
    "collapsed": true
   },
   "outputs": [],
   "source": [
    "BOW = BOW_transform.transform(df_message['message'])"
   ]
  },
  {
   "cell_type": "code",
   "execution_count": 56,
   "metadata": {
    "collapsed": false
   },
   "outputs": [
    {
     "name": "stdout",
     "output_type": "stream",
     "text": [
      "Shape of the large transformed matrix is: (5574, 8874) i.e 5574 rows that corresponds to the number of messages and 8874 columns for each of the message that corresponds to the total number of unique words in the dataset\n"
     ]
    }
   ],
   "source": [
    "print 'Shape of the large transformed matrix is:', BOW.shape, 'i.e', BOW.shape[0], 'rows that corresponds to the number of messages and', BOW.shape[1], 'columns for each of the message that corresponds to the total number of unique words in the dataset'"
   ]
  },
  {
   "cell_type": "markdown",
   "metadata": {},
   "source": [
    "We have finished counting, now as per our previously mentioned 3 steps we need to perform term weighting and normalization. We would do that using the TfidfTransformer of the Scikit-learn"
   ]
  },
  {
   "cell_type": "code",
   "execution_count": 9,
   "metadata": {
    "collapsed": true
   },
   "outputs": [],
   "source": [
    "tfidf_BOW = TfidfTransformer().fit(BOW)"
   ]
  },
  {
   "cell_type": "markdown",
   "metadata": {},
   "source": [
    "How does the previous message look now after this conversion ?"
   ]
  },
  {
   "cell_type": "code",
   "execution_count": 65,
   "metadata": {
    "collapsed": false
   },
   "outputs": [
    {
     "name": "stdout",
     "output_type": "stream",
     "text": [
      "  (0, 8525)\t0.179632904113\n",
      "  (0, 8485)\t0.138190739033\n",
      "  (0, 7996)\t0.118168109475\n",
      "  (0, 7812)\t0.171012810274\n",
      "  (0, 7801)\t0.208159499981\n",
      "  (0, 7647)\t0.11289854213\n",
      "  (0, 7533)\t0.133691560916\n",
      "  (0, 7310)\t0.185427055493\n",
      "  (0, 6408)\t0.157631945365\n",
      "  (0, 6350)\t0.157631945365\n",
      "  (0, 6297)\t0.158384636518\n",
      "  (0, 5029)\t0.148370514297\n",
      "  (0, 4183)\t0.0764098797291\n",
      "  (0, 3437)\t0.109085811318\n",
      "  (0, 3287)\t0.173494826823\n",
      "  (0, 3177)\t0.442847223391\n",
      "  (0, 3046)\t0.339376234237\n",
      "  (0, 2479)\t0.19016122188\n",
      "  (0, 2266)\t0.185427055493\n",
      "  (0, 1899)\t0.119671386057\n",
      "  (0, 1272)\t0.159958817058\n",
      "  (0, 948)\t0.0643973850704\n",
      "  (0, 893)\t0.208159499981\n",
      "  (0, 484)\t0.213953651361\n",
      "  (0, 472)\t0.213953651361\n",
      "  (0, 452)\t0.0944406763398\n",
      "  (0, 103)\t0.221423611696\n",
      "  (0, 21)\t0.183683813193\n"
     ]
    }
   ],
   "source": [
    "print tfidf_BOW.transform(BOW[2])"
   ]
  },
  {
   "cell_type": "markdown",
   "metadata": {},
   "source": [
    "Let us also check the inverse document frequency of a word, say 'to'"
   ]
  },
  {
   "cell_type": "code",
   "execution_count": 67,
   "metadata": {
    "collapsed": false
   },
   "outputs": [
    {
     "name": "stdout",
     "output_type": "stream",
     "text": [
      "inverse document frequnency of the word \"to\" is: 2.19534051378\n"
     ]
    }
   ],
   "source": [
    "print 'inverse document frequnency of the word \"to\" is:', tfidf_BOW.idf_[BOW_transform.vocabulary_['to']]"
   ]
  },
  {
   "cell_type": "markdown",
   "metadata": {},
   "source": [
    "Lets do the conversion of the entire 'bag of words' converted corpus"
   ]
  },
  {
   "cell_type": "code",
   "execution_count": 10,
   "metadata": {
    "collapsed": true
   },
   "outputs": [],
   "source": [
    "converted_messages = tfidf_BOW.transform(BOW)"
   ]
  },
  {
   "cell_type": "code",
   "execution_count": 75,
   "metadata": {
    "collapsed": false
   },
   "outputs": [
    {
     "name": "stdout",
     "output_type": "stream",
     "text": [
      " total time taken in training: 0:00:00.014785\n"
     ]
    }
   ],
   "source": [
    "t1 = dt.datetime.now()\n",
    "spam_detector = MultinomialNB().fit(converted_messages, df_message['label'])\n",
    "t2 = dt.datetime.now()\n",
    "print 'total time taken in training:', (t2-t1)"
   ]
  },
  {
   "cell_type": "markdown",
   "metadata": {},
   "source": [
    "Lets try to see how does it perform:"
   ]
  },
  {
   "cell_type": "code",
   "execution_count": 77,
   "metadata": {
    "collapsed": false
   },
   "outputs": [
    {
     "name": "stdout",
     "output_type": "stream",
     "text": [
      " predicted: spam\n",
      "expected: spam\n"
     ]
    }
   ],
   "source": [
    "print 'predicted:', spam_detector.predict(tfidf_BOW.transform(BOW[2]))[0]\n",
    "print 'expected:', df_message['label'][2]"
   ]
  },
  {
   "cell_type": "markdown",
   "metadata": {},
   "source": [
    "Next try cross validation with this model as well as SVM and a Random Forest and compare the performance. We would only show how do achieve this with NaiveBayes. We use a StratifiedKfold which is a variation of KFold that returns stratified folds. The folds are made by preserving the percentage of samples for each class."
   ]
  },
  {
   "cell_type": "code",
   "execution_count": 51,
   "metadata": {
    "collapsed": true
   },
   "outputs": [],
   "source": [
    "target = np.array(df_message['label'].tolist())\n",
    "features = converted_messages\n",
    "skf = StratifiedKFold(target, n_folds=5)"
   ]
  },
  {
   "cell_type": "code",
   "execution_count": 52,
   "metadata": {
    "collapsed": false
   },
   "outputs": [],
   "source": [
    "true_ = []\n",
    "pred_ = []\n",
    "for train_index, test_index in skf:\n",
    "    spam_detector = MultinomialNB().fit(converted_messages[train_index], target[train_index])\n",
    "    predict = spam_detector.predict(converted_messages[test_index])\n",
    "    true_.append(target[test_index])\n",
    "    pred_.append(predict)\n",
    "    "
   ]
  },
  {
   "cell_type": "code",
   "execution_count": 53,
   "metadata": {
    "collapsed": true
   },
   "outputs": [],
   "source": [
    "TrueLabel = list(itertools.chain(*true_))\n",
    "PredictedLabel = list(itertools.chain(*pred_))"
   ]
  },
  {
   "cell_type": "markdown",
   "metadata": {},
   "source": [
    "We would check some performance metrics like the confusion matrix, correlation, f1 score etc. "
   ]
  },
  {
   "cell_type": "code",
   "execution_count": 54,
   "metadata": {
    "collapsed": false
   },
   "outputs": [
    {
     "data": {
      "image/png": "[encoded data removed]",
      "text/plain": [
       "<matplotlib.figure.Figure at 0x7f76c88caf10>"
      ]
     },
     "metadata": {},
     "output_type": "display_data"
    }
   ],
   "source": [
    "cm = confusion_matrix(PredictedLabel, TrueLabel)\n",
    "fig, ax = plt.subplots()\n",
    "im = ax.matshow(cm)\n",
    "for (i, j), z in np.ndenumerate(cm):\n",
    "    ax.text(j, i, '{:0.1f}'.format(z), ha='center', va='center',\n",
    "            bbox=dict(boxstyle='round', facecolor='white', edgecolor='0.3'))\n",
    "    \n",
    "plt.title('Confusion matrix')\n",
    "fig.colorbar(im)\n",
    "plt.ylabel('True label')\n",
    "plt.xlabel('Predicted label')\n",
    "plt.show()"
   ]
  },
  {
   "cell_type": "code",
   "execution_count": 55,
   "metadata": {
    "collapsed": true
   },
   "outputs": [],
   "source": [
    "TrueLabel = [1 if x=='spam' else 0 for x in TrueLabel]\n",
    "PredictedLabel = [1 if x=='spam' else 0 for x in PredictedLabel]"
   ]
  },
  {
   "cell_type": "code",
   "execution_count": 60,
   "metadata": {
    "collapsed": false
   },
   "outputs": [
    {
     "name": "stdout",
     "output_type": "stream",
     "text": [
      "Correlation between the actual and prediction is: 0.77407181965 with p-value 0.00\n"
     ]
    }
   ],
   "source": [
    "print 'Correlation between the actual and prediction is:', pearsonr(TrueLabel, PredictedLabel)[0], 'with p-value',  (\"%.2f\" % pearsonr(TrueLabel, PredictedLabel)[1])"
   ]
  },
  {
   "cell_type": "code",
   "execution_count": 41,
   "metadata": {
    "collapsed": false
   },
   "outputs": [
    {
     "name": "stdout",
     "output_type": "stream",
     "text": [
      "             precision    recall  f1-score   support\n",
      "\n",
      "       Spam       0.95      1.00      0.97      4827\n",
      "        ham       1.00      0.63      0.78       747\n",
      "\n",
      "avg / total       0.95      0.95      0.95      5574\n",
      "\n"
     ]
    }
   ],
   "source": [
    "target_names = ['Spam', 'ham']\n",
    "print(classification_report(TrueLabel, PredictedLabel, target_names=target_names))"
   ]
  },
  {
   "cell_type": "code",
   "execution_count": 42,
   "metadata": {
    "collapsed": false
   },
   "outputs": [
    {
     "name": "stdout",
     "output_type": "stream",
     "text": [
      "Area under the curve (AUC) is: 0.816599732262\n"
     ]
    }
   ],
   "source": [
    "print 'Area under the curve (AUC) is:', roc_auc_score(TrueLabel, PredictedLabel)"
   ]
  },
  {
   "cell_type": "code",
   "execution_count": 46,
   "metadata": {
    "collapsed": true
   },
   "outputs": [],
   "source": [
    "false_positive_rate, true_positive_rate, thresholds = roc_curve(TrueLabel, PredictedLabel)\n",
    "roc_auc = auc(false_positive_rate, true_positive_rate)"
   ]
  },
  {
   "cell_type": "markdown",
   "metadata": {},
   "source": [
    "Lets also check the ROC plot"
   ]
  },
  {
   "cell_type": "code",
   "execution_count": 61,
   "metadata": {
    "collapsed": false,
    "scrolled": true
   },
   "outputs": [
    {
     "data": {
      "image/png": "[encoded data removed]",
      "text/plain": [
       "<matplotlib.figure.Figure at 0x7f76c89701d0>"
      ]
     },
     "metadata": {},
     "output_type": "display_data"
    }
   ],
   "source": [
    "plt.title('Receiver Operating Characteristic')\n",
    "plt.plot(false_positive_rate, true_positive_rate, 'b',\n",
    "label='AUC = %0.2f'% roc_auc)\n",
    "plt.legend(loc='lower right')\n",
    "plt.plot([0,1],[0,1],'r--')\n",
    "plt.xlim([-0.1,1.1])\n",
    "plt.ylim([-0.1,1.1])\n",
    "plt.ylabel('True Positive Rate')\n",
    "plt.xlabel('False Positive Rate')\n",
    "plt.show()"
   ]
  }
 ],
 "metadata": {
  "kernelspec": {
   "display_name": "Python 2",
   "language": "python",
   "name": "python2"
  },
  "language_info": {
   "codemirror_mode": {
    "name": "ipython",
    "version": 2
   },
   "file_extension": ".py",
   "mimetype": "text/x-python",
   "name": "python",
   "nbconvert_exporter": "python",
   "pygments_lexer": "ipython2",
   "version": "2.7.10"
  }
 },
 "nbformat": 4,
 "nbformat_minor": 0
}
